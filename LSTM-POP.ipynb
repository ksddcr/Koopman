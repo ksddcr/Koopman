{
 "cells": [
  {
   "cell_type": "markdown",
   "id": "216616b5",
   "metadata": {},
   "source": [
    "下载需要的包\n",
    "\n",
    "pip install tensorflow\n",
    "\n",
    "需要修改的部分为 读取数据的文件、根据原始数据标准化的公式【需要自己把握】、y预测部分的文件地址为训练参数所在的文件夹"
   ]
  },
  {
   "cell_type": "code",
   "execution_count": null,
   "id": "58589976",
   "metadata": {},
   "outputs": [],
   "source": [
    "import pandas as pd\n",
    "import numpy as np\n",
    "import math\n",
    "import os\n",
    "import matplotlib.pyplot as plt\n",
    "import tensorflow.compat.v1 as tf\n",
    "tf.disable_v2_behavior()   "
   ]
  },
  {
   "cell_type": "code",
   "execution_count": null,
   "id": "c426d1c0",
   "metadata": {},
   "outputs": [],
   "source": [
    "# 读取数据\n",
    "df = pd.read_excel(\"C:/Users/133/Desktop/pop_data.xlsx\")\n",
    "# pd.read_csv(\"\")\n",
    "df.head()\n",
    "data = df[\"UK\"][0:59]"
   ]
  },
  {
   "cell_type": "code",
   "execution_count": null,
   "id": "2810bc9f",
   "metadata": {},
   "outputs": [],
   "source": [
    "# 绘制人口变化趋势图\n",
    "plt.figure(figsize=(16,8))\n",
    "plt.plot(data)\n",
    "plt.show()"
   ]
  },
  {
   "cell_type": "code",
   "execution_count": null,
   "id": "6a8bef75",
   "metadata": {},
   "outputs": [],
   "source": [
    "#normalize_data=(data-np.mean(data))/np.std(data)  #标准化\n",
    "#normalize_data=normalize_data[:,np.newaxis]       #增加维度\n",
    "#需要将数据的尺度变小，由于数据是一直递增的，做非线性化\n",
    "#神经网络需要数据变化幅度在一定小的范围内(大致在0-1)，数据小的变化可能影响网络\n",
    "normalize_data=((np.log(data)/np.log(10)-6.584)/5)*100   \n",
    "normalize_data=normalize_data[:,np.newaxis] "
   ]
  },
  {
   "cell_type": "code",
   "execution_count": null,
   "id": "fae297a1",
   "metadata": {},
   "outputs": [],
   "source": [
    "# 生成训练集\n",
    "# 设置常量\n",
    "time_step=20      #时间步\n",
    "rnn_unit=10       #hidden layer units\n",
    "batch_size=30     #每一批次训练多少个样例\n",
    "input_size=1      #输入层维度\n",
    "output_size=1     #输出层维度\n",
    "lr=0.0006         #学习率"
   ]
  },
  {
   "cell_type": "code",
   "execution_count": null,
   "id": "07ae1a43",
   "metadata": {},
   "outputs": [],
   "source": [
    "train_x,train_y=[],[]   #训练集\n",
    "for i in range(len(normalize_data)-time_step-1):\n",
    "    x=normalize_data[i:i+time_step]\n",
    "    y=normalize_data[i+1:i+time_step+1]\n",
    "    train_x.append(x.tolist())  #将数组转化成列表\n",
    "    train_y.append(y.tolist())"
   ]
  },
  {
   "cell_type": "code",
   "execution_count": null,
   "id": "86ad402d",
   "metadata": {},
   "outputs": [],
   "source": [
    "#定义神经网络变量\n",
    "X=tf.placeholder(tf.float32, [None,time_step,input_size])    #每批次输入网络的tensor/定义placeholder\n",
    "Y=tf.placeholder(tf.float32, [None,time_step,output_size])   #每批次tensor对应的标签\n",
    "#输入层、输出层权重、偏置\n",
    "weights={\n",
    "         'in':tf.Variable(tf.random_normal([input_size,rnn_unit])),\n",
    "         'out':tf.Variable(tf.random_normal([rnn_unit,1]))\n",
    "         }\n",
    "biases={\n",
    "        'in':tf.Variable(tf.constant(0.1,shape=[rnn_unit,])),\n",
    "        'out':tf.Variable(tf.constant(0.1,shape=[1,]))\n",
    "        }"
   ]
  },
  {
   "cell_type": "code",
   "execution_count": null,
   "id": "8df6e7d3",
   "metadata": {},
   "outputs": [],
   "source": [
    "#定义LSTM神经网络变量\n",
    "def lstm(batch):      #参数：输入网络批次数目\n",
    "    w_in=weights['in']\n",
    "    b_in=biases['in']\n",
    "    input=tf.reshape(X,[-1,input_size])  #需要将tensor转成2维进行计算，计算后的结果作为隐藏层的输入\n",
    "    input_rnn=tf.matmul(input,w_in)+b_in #表示矩阵乘法\n",
    "    input_rnn=tf.reshape(input_rnn,[-1,time_step,rnn_unit])  #将tensor转成3维，作为lstm cell的输入\n",
    "    cell=tf.nn.rnn_cell.BasicLSTMCell(rnn_unit)  #定义单个基本的LSTM单元\n",
    "    init_state=cell.zero_state(batch,dtype=tf.float32)  #这个函数用于返回全0的state tensor\n",
    "    #dynamic_rnn 用于创建由RNNCell细胞指定的循环神经网络，对inputs进行动态展开\n",
    "    #output_rnn是记录lstm每个输出节点的结果，final_states是最后一个cell的结果\n",
    "    output_rnn,final_states=tf.nn.dynamic_rnn(cell, input_rnn,initial_state=init_state, dtype=tf.float32)\n",
    "    #函数的作用是将tensor变换为参数shape的形式。 \t\n",
    "    output=tf.reshape(output_rnn,[-1,rnn_unit]) \n",
    "    w_out=weights['out']\n",
    "    b_out=biases['out']\n",
    "    pred=tf.matmul(output,w_out)+b_out #表示矩阵乘法\n",
    "    return pred,final_states\n"
   ]
  },
  {
   "cell_type": "code",
   "execution_count": null,
   "id": "0fdc5495",
   "metadata": {},
   "outputs": [],
   "source": [
    "#训练模型\n",
    "def train_lstm():\n",
    "    global batch_size\n",
    "    pred,_=lstm(batch_size) #调用的构建的lstm变量\n",
    "    #损失函数 平均平方误差(MSE)\n",
    "    loss=tf.reduce_mean(tf.square(tf.reshape(pred,[-1])-tf.reshape(Y, [-1])))\n",
    "    #实现梯度下降算法的优化器，优化损失函数\n",
    "    train_op=tf.train.AdamOptimizer(lr).minimize(loss)\n",
    "    #保存和恢复模型的方法；方法返回checkpoint文件的路径。可以直接传给restore() 进行调用\n",
    "    saver=tf.train.Saver(tf.global_variables())\n",
    "    with tf.Session() as sess:\n",
    "        sess.run(tf.global_variables_initializer())\n",
    "        #重复训练1000次\n",
    "        step=0\n",
    "        for i in range(2000):\n",
    "            start=0\n",
    "            end=start+batch_size\n",
    "            while(end<len(train_x)):\n",
    "                _,loss_=sess.run([train_op,loss],feed_dict={X:train_x[start:end],Y:train_y[start:end]})\n",
    "                start+=batch_size\n",
    "                end=start+batch_size\n",
    "                #每10步保存一次参数\n",
    "                if step%100==0:\n",
    "                    print(i,step,loss_)\n",
    "                    print(\"保存模型：\",saver.save(sess,'pop.model'))\n",
    "                step+=1"
   ]
  },
  {
   "cell_type": "code",
   "execution_count": null,
   "id": "b2c6c76d",
   "metadata": {},
   "outputs": [],
   "source": [
    "with tf.variable_scope('train'):\n",
    "    train_lstm()"
   ]
  },
  {
   "cell_type": "code",
   "execution_count": null,
   "id": "ae5f6baa",
   "metadata": {},
   "outputs": [],
   "source": [
    "# 预测prediction()\n",
    "with tf.variable_scope('train',reuse=True):\n",
    "    pred,_=lstm(1)      #预测时只输入[1,time_step,input_size]的测试数据\n",
    "    saver=tf.train.Saver(tf.global_variables())\n",
    "    with tf.Session() as sess:\n",
    "        #模型参数恢复\n",
    "        #module_file = \"pop.model\"\n",
    "        #module_file = tf.train.latest_checkpoint(base_path+'module2/')\n",
    "        #saver.restore(sess, module_file) \n",
    "        saver.restore(sess,\"C:/Users/133/Documents/Python Scripts/Untitled Folder/\"+\"pop.model\")\n",
    " \n",
    "        #取训练集最后一行为测试样本。shape=[1,time_step,input_size]\n",
    "        prev_seq=train_x[-1]\n",
    "        predict=[]\n",
    "        #得到之后100个预测结果\n",
    "        for i in range(26):\n",
    "            next_seq=sess.run(pred,feed_dict={X:[prev_seq]})\n",
    "            predict.append(next_seq[-1])\n",
    "            #每次得到最后一个时间步的预测结果，与之前的数据加在一起，形成新的测试样本\n",
    "            prev_seq=np.vstack((prev_seq[1:],next_seq[-1]))  \n",
    "            #以折线图表示结果  "
   ]
  },
  {
   "cell_type": "code",
   "execution_count": null,
   "id": "f2bde762",
   "metadata": {},
   "outputs": [],
   "source": [
    "#以折线图表示标准化结果  \n",
    "plt.figure()\n",
    "plt.plot(list(range(len(normalize_data))), normalize_data, color='b')\n",
    "plt.plot(list(range(len(normalize_data), len(normalize_data) + len(predict))), predict, color='r')\n",
    "plt.show()"
   ]
  },
  {
   "cell_type": "code",
   "execution_count": null,
   "id": "d359c8dc",
   "metadata": {},
   "outputs": [],
   "source": [
    "#返回数据计算\n",
    "data_normalize = np.array(predict).squeeze()\n",
    "data_pred = np.power(10,data_normalize/20+6.584)\n",
    "\n",
    "#以折线图表示实际结果  \n",
    "plt.figure()\n",
    "plt.plot(range(len(data)), data, color='b')\n",
    "plt.plot(range(len(data), len(data) + len(data_pred)), data_pred, color='r')\n",
    "plt.show()"
   ]
  },
  {
   "cell_type": "code",
   "execution_count": null,
   "id": "68adda69",
   "metadata": {},
   "outputs": [],
   "source": [
    "# 结果导出\n",
    "writer = pd.ExcelWriter(\"Y_结果导出.xlsx\")\n",
    "data_pred = pd.DataFrame(data_pred)\n",
    "data_pred.to_excel(writer,\"Yhat\")\n",
    "writer.save()"
   ]
  }
 ],
 "metadata": {
  "kernelspec": {
   "display_name": "Python 3 (ipykernel)",
   "language": "python",
   "name": "python3"
  },
  "language_info": {
   "codemirror_mode": {
    "name": "ipython",
    "version": 3
   },
   "file_extension": ".py",
   "mimetype": "text/x-python",
   "name": "python",
   "nbconvert_exporter": "python",
   "pygments_lexer": "ipython3",
   "version": "3.9.7"
  }
 },
 "nbformat": 4,
 "nbformat_minor": 5
}
